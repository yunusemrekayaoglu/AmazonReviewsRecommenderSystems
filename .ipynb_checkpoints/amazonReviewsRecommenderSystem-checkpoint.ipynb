{
 "cells": [
  {
   "cell_type": "markdown",
   "id": "61b5a423",
   "metadata": {},
   "source": [
    "# Amazon İncelemelerini Kullanarak Öneri Sistemi\n",
    "\n",
    "## Part 1:"
   ]
  },
  {
   "cell_type": "code",
   "execution_count": 56,
   "id": "83db758a",
   "metadata": {},
   "outputs": [],
   "source": [
    "import numpy as np # Lineer cebir\n",
    "import pandas as pd # Veri işleme\n",
    "import matplotlib.pyplot as plt\n",
    "import seaborn as sns"
   ]
  },
  {
   "cell_type": "code",
   "execution_count": 34,
   "id": "47c47746",
   "metadata": {},
   "outputs": [],
   "source": [
    "veriSeti = pd.read_csv(\"C:\\\\Users\\\\yunusEmre\\\\Desktop\\\\amazon\\\\ratings_Electronics.csv\", names = ['kullaniciId', 'urunId', \"degerlendirme\", 'zamanDamgasi'])"
   ]
  },
  {
   "cell_type": "code",
   "execution_count": 35,
   "id": "13677552",
   "metadata": {},
   "outputs": [
    {
     "data": {
      "text/html": [
       "<div>\n",
       "<style scoped>\n",
       "    .dataframe tbody tr th:only-of-type {\n",
       "        vertical-align: middle;\n",
       "    }\n",
       "\n",
       "    .dataframe tbody tr th {\n",
       "        vertical-align: top;\n",
       "    }\n",
       "\n",
       "    .dataframe thead th {\n",
       "        text-align: right;\n",
       "    }\n",
       "</style>\n",
       "<table border=\"1\" class=\"dataframe\">\n",
       "  <thead>\n",
       "    <tr style=\"text-align: right;\">\n",
       "      <th></th>\n",
       "      <th>kullaniciId</th>\n",
       "      <th>urunId</th>\n",
       "      <th>degerlendirme</th>\n",
       "      <th>zamanDamgasi</th>\n",
       "    </tr>\n",
       "  </thead>\n",
       "  <tbody>\n",
       "    <tr>\n",
       "      <th>0</th>\n",
       "      <td>AKM1MP6P0OYPR</td>\n",
       "      <td>0132793040</td>\n",
       "      <td>5.0</td>\n",
       "      <td>1365811200</td>\n",
       "    </tr>\n",
       "    <tr>\n",
       "      <th>1</th>\n",
       "      <td>A2CX7LUOHB2NDG</td>\n",
       "      <td>0321732944</td>\n",
       "      <td>5.0</td>\n",
       "      <td>1341100800</td>\n",
       "    </tr>\n",
       "    <tr>\n",
       "      <th>2</th>\n",
       "      <td>A2NWSAGRHCP8N5</td>\n",
       "      <td>0439886341</td>\n",
       "      <td>1.0</td>\n",
       "      <td>1367193600</td>\n",
       "    </tr>\n",
       "    <tr>\n",
       "      <th>3</th>\n",
       "      <td>A2WNBOD3WNDNKT</td>\n",
       "      <td>0439886341</td>\n",
       "      <td>3.0</td>\n",
       "      <td>1374451200</td>\n",
       "    </tr>\n",
       "    <tr>\n",
       "      <th>4</th>\n",
       "      <td>A1GI0U4ZRJA8WN</td>\n",
       "      <td>0439886341</td>\n",
       "      <td>1.0</td>\n",
       "      <td>1334707200</td>\n",
       "    </tr>\n",
       "  </tbody>\n",
       "</table>\n",
       "</div>"
      ],
      "text/plain": [
       "      kullaniciId      urunId  degerlendirme  zamanDamgasi\n",
       "0   AKM1MP6P0OYPR  0132793040            5.0    1365811200\n",
       "1  A2CX7LUOHB2NDG  0321732944            5.0    1341100800\n",
       "2  A2NWSAGRHCP8N5  0439886341            1.0    1367193600\n",
       "3  A2WNBOD3WNDNKT  0439886341            3.0    1374451200\n",
       "4  A1GI0U4ZRJA8WN  0439886341            1.0    1334707200"
      ]
     },
     "execution_count": 35,
     "metadata": {},
     "output_type": "execute_result"
    }
   ],
   "source": [
    "veriSeti.head() # ekrana gösterir."
   ]
  },
  {
   "cell_type": "code",
   "execution_count": 36,
   "id": "b12c9036",
   "metadata": {},
   "outputs": [
    {
     "data": {
      "text/plain": [
       "(7824482, 4)"
      ]
     },
     "execution_count": 36,
     "metadata": {},
     "output_type": "execute_result"
    }
   ],
   "source": [
    "veriSeti.shape # dizinin boyutunu ve şeklini belirliyoruz"
   ]
  },
  {
   "cell_type": "code",
   "execution_count": 37,
   "id": "758eba97",
   "metadata": {},
   "outputs": [],
   "source": [
    "veriSeti = veriSeti.iloc[:1000000, 0:] # satır ve sütun indisleri kullanarak belirli bir veri aralığını seçiyoruz."
   ]
  },
  {
   "cell_type": "code",
   "execution_count": 38,
   "id": "7182ac81",
   "metadata": {},
   "outputs": [
    {
     "data": {
      "text/plain": [
       "kullaniciId       object\n",
       "urunId            object\n",
       "degerlendirme    float64\n",
       "zamanDamgasi       int64\n",
       "dtype: object"
      ]
     },
     "execution_count": 38,
     "metadata": {},
     "output_type": "execute_result"
    }
   ],
   "source": [
    "veriSeti.dtypes # DataFrame'deki veri tiplerini gösteriyoruz."
   ]
  },
  {
   "cell_type": "code",
   "execution_count": 40,
   "id": "ee9a0cb1",
   "metadata": {},
   "outputs": [
    {
     "name": "stdout",
     "output_type": "stream",
     "text": [
      "<class 'pandas.core.frame.DataFrame'>\n",
      "RangeIndex: 1000000 entries, 0 to 999999\n",
      "Data columns (total 4 columns):\n",
      " #   Column         Non-Null Count    Dtype  \n",
      "---  ------         --------------    -----  \n",
      " 0   kullaniciId    1000000 non-null  object \n",
      " 1   urunId         1000000 non-null  object \n",
      " 2   degerlendirme  1000000 non-null  float64\n",
      " 3   zamanDamgasi   1000000 non-null  int64  \n",
      "dtypes: float64(1), int64(1), object(2)\n",
      "memory usage: 30.5+ MB\n"
     ]
    }
   ],
   "source": [
    "veriSeti.info() # DataFrame'in verilerin özetini istiyoruz. Yani her sütunun ismi, veri tipi, non-null veri sayısı vb..."
   ]
  },
  {
   "cell_type": "code",
   "execution_count": 41,
   "id": "a620b1ec",
   "metadata": {},
   "outputs": [
    {
     "data": {
      "text/plain": [
       "count    1000000.000000\n",
       "mean           3.973620\n",
       "std            1.399741\n",
       "min            1.000000\n",
       "25%            3.000000\n",
       "50%            5.000000\n",
       "75%            5.000000\n",
       "max            5.000000\n",
       "Name: degerlendirme, dtype: float64"
      ]
     },
     "execution_count": 41,
     "metadata": {},
     "output_type": "execute_result"
    }
   ],
   "source": [
    "veriSeti.describe()['degerlendirme'].T # temel istatistik değerlerini (sayısı, ortalaması ...) gösterir. Sonuçları yatay göstermek \n",
    "                               # için transpozunu aldık."
   ]
  },
  {
   "cell_type": "code",
   "execution_count": 45,
   "id": "cc37e730",
   "metadata": {},
   "outputs": [
    {
     "name": "stdout",
     "output_type": "stream",
     "text": [
      "Minimum degerlendirme: 1\n",
      "Maksimum degerlendirme: 5\n"
     ]
    }
   ],
   "source": [
    "print(\"Minimum degerlendirme: %d\" %(veriSeti.degerlendirme.min()))\n",
    "print(\"Maksimum degerlendirme: %d\" %(veriSeti.degerlendirme.max()))"
   ]
  },
  {
   "cell_type": "code",
   "execution_count": 46,
   "id": "dc3f2609",
   "metadata": {},
   "outputs": [
    {
     "name": "stdout",
     "output_type": "stream",
     "text": [
      "Boş geçen sütunlar:\n",
      " kullaniciId      0\n",
      "urunId           0\n",
      "degerlendirme    0\n",
      "zamanDamgasi     0\n",
      "dtype: int64\n"
     ]
    }
   ],
   "source": [
    "# Her bir sütundaki eksik değerleri hesaplar. Eğer her hücrede eksik değer varsa kontrol edip True ya da False döndürür.\n",
    "# Sum fonksiyonu ise her bir sütundaki True değerlerinin sayısını hesaplayıp yazdırır.\n",
    "print(\"Boş geçen sütunlar:\\n\", veriSeti.isnull().sum())"
   ]
  },
  {
   "cell_type": "code",
   "execution_count": 47,
   "id": "f62a63da",
   "metadata": {},
   "outputs": [
    {
     "data": {
      "image/png": "[encoded data removed]",
      "text/plain": [
       "<Figure size 1000x500 with 1 Axes>"
      ]
     },
     "metadata": {},
     "output_type": "display_data"
    }
   ],
   "source": [
    "# aspect: çizimin genişlik/ yükseklik oranını ayarlar.\n",
    "# kind: çizim türünü belirtir. Bu örnekte 'count'\n",
    "with sns.axes_style('white'):\n",
    "    g = sns.catplot(x=\"degerlendirme\", data = veriSeti, aspect = 2.0, kind = 'count')\n",
    "    g.set_ylabels(\"Toplam reyting sayıları\") # y ekseni"
   ]
  },
  {
   "cell_type": "markdown",
   "id": "a83de43a",
   "metadata": {},
   "source": [
    "## Benzersiz kullanıcılar ve ürünler"
   ]
  },
  {
   "cell_type": "code",
   "execution_count": 48,
   "id": "85bd3744",
   "metadata": {},
   "outputs": [
    {
     "name": "stdout",
     "output_type": "stream",
     "text": [
      "Toplam veri\n",
      "--------------------------------------------------\n",
      "\n",
      "Toplam degerlendirme sayisi:  1000000\n",
      "Toplam kullanici sayisi:  754153\n",
      "Toplam urun sayisi:  59634\n"
     ]
    }
   ],
   "source": [
    "print(\"Toplam veri\")\n",
    "print(\"-\" * 50)\n",
    "print(\"\\nToplam degerlendirme sayisi: \", veriSeti.shape[0])\n",
    "print(\"Toplam kullanici sayisi: \", len(np.unique(veriSeti.kullaniciId)))\n",
    "print(\"Toplam urun sayisi: \", len(np.unique(veriSeti.urunId)))"
   ]
  },
  {
   "cell_type": "markdown",
   "id": "904794f7",
   "metadata": {},
   "source": [
    "## Zaman damgası sütununu bırakma"
   ]
  },
  {
   "cell_type": "code",
   "execution_count": 49,
   "id": "28cd4f6f",
   "metadata": {},
   "outputs": [],
   "source": [
    "#verisetimizden zamanDamgasi sütununu çıkartıyoruz\n",
    "# axis = 1 sütunlar için\n",
    "# inplace = True orijinal veriseti üzerinde işlem yapacağımız anlamına geliyor.\n",
    "veriSeti.drop([\"zamanDamgasi\"], axis = 1, inplace = True)"
   ]
  },
  {
   "cell_type": "markdown",
   "id": "06b7766f",
   "metadata": {},
   "source": [
    "## Değerlendirmeleri analiz aşaması"
   ]
  },
  {
   "cell_type": "code",
   "execution_count": 51,
   "id": "b18c7610",
   "metadata": {},
   "outputs": [
    {
     "data": {
      "text/plain": [
       "kullaniciId\n",
       "A5JLAU2ARJ0BO     409\n",
       "A231WM2Z2JL0U3    249\n",
       "A25HBO5V8S8SEA    164\n",
       "A6FIAB28IS79      138\n",
       "AT6CZDCP4TRGA     125\n",
       "Name: degerlendirme, dtype: int64"
      ]
     },
     "execution_count": 51,
     "metadata": {},
     "output_type": "execute_result"
    }
   ],
   "source": [
    "#Kullanıcıların verdiği değerlendirmelerin analizi\n",
    "kullaniciBasinaPuanlananUrunSayisi = veriSeti.groupby(by = 'kullaniciId')['degerlendirme'].count().sort_values(ascending = False)\n",
    "kullaniciBasinaPuanlananUrunSayisi.head()"
   ]
  },
  {
   "cell_type": "code",
   "execution_count": 52,
   "id": "65422d34",
   "metadata": {},
   "outputs": [
    {
     "data": {
      "text/plain": [
       "count    754153.000000\n",
       "mean          1.325991\n",
       "std           1.372250\n",
       "min           1.000000\n",
       "25%           1.000000\n",
       "50%           1.000000\n",
       "75%           1.000000\n",
       "max         409.000000\n",
       "Name: degerlendirme, dtype: float64"
      ]
     },
     "execution_count": 52,
     "metadata": {},
     "output_type": "execute_result"
    }
   ],
   "source": [
    "kullaniciBasinaPuanlananUrunSayisi.describe()"
   ]
  },
  {
   "cell_type": "code",
   "execution_count": 57,
   "id": "c59914c8",
   "metadata": {},
   "outputs": [],
   "source": [
    "yuzdelik = kullaniciBasinaPuanlananUrunSayisi.quantile(np.arange(0, 1.01, 0.01), interpolation = 'higher')\n",
    "#interpolation eksik veya bozuk olan değerleri hesaplamak için kullanıyoruz."
   ]
  },
  {
   "cell_type": "code",
   "execution_count": 60,
   "id": "faee9d35",
   "metadata": {},
   "outputs": [
    {
     "data": {
      "image/png": "[encoded data removed]",
      "text/plain": [
       "<Figure size 1000x1000 with 1 Axes>"
      ]
     },
     "metadata": {},
     "output_type": "display_data"
    }
   ],
   "source": [
    "plt.figure(figsize = (10, 10))\n",
    "plt.title(\"Nicelikler ve Degerleri\")\n",
    "yuzdelik.plot()\n",
    "#0.05 farkla yüzdelikler\n",
    "plt.scatter(x = yuzdelik.index[::5], y = yuzdelik.values[::5], c = \"cyan\", label = \"0.05 araliklarla yuzdelik dilimler\")\n",
    "#0.25 farkla yüzdelikler\n",
    "plt.scatter(x = yuzdelik.index[::25], y = yuzdelik.values[::25], c = 'yellow', label = \"0.25 araliklarla yuzdelik dilimler\")\n",
    "plt.ylabel(\"Kullanici basina puanlanan urun sayisi\")\n",
    "plt.xlabel(\"Yüzdelikteki degerler\")\n",
    "plt.legend(loc = \"best\")\n",
    "plt.show()"
   ]
  },
  {
   "cell_type": "code",
   "execution_count": 66,
   "id": "379082fb",
   "metadata": {},
   "outputs": [
    {
     "name": "stdout",
     "output_type": "stream",
     "text": [
      "\n",
      " Kullanici basina 100'den fazla degerlendirilmis urun sayisi : 8\n",
      "\n"
     ]
    }
   ],
   "source": [
    "print(\"\\n Kullanici basina 100'den fazla degerlendirilmis urun sayisi : {}\\n\".format(sum(kullaniciBasinaPuanlananUrunSayisi >= 100)) )"
   ]
  },
  {
   "cell_type": "code",
   "execution_count": null,
   "id": "33709bf8",
   "metadata": {},
   "outputs": [],
   "source": []
  }
 ],
 "metadata": {
  "kernelspec": {
   "display_name": "Python 3 (ipykernel)",
   "language": "python",
   "name": "python3"
  },
  "language_info": {
   "codemirror_mode": {
    "name": "ipython",
    "version": 3
   },
   "file_extension": ".py",
   "mimetype": "text/x-python",
   "name": "python",
   "nbconvert_exporter": "python",
   "pygments_lexer": "ipython3",
   "version": "3.10.9"
  }
 },
 "nbformat": 4,
 "nbformat_minor": 5
}
