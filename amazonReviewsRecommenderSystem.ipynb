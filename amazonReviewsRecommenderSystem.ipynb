{
 "cells": [
  {
   "cell_type": "markdown",
   "id": "61b5a423",
   "metadata": {},
   "source": [
    "# Amazon İncelemelerini Kullanarak Öneri Sistemi\n",
    "\n",
    "## Part 1:"
   ]
  },
  {
   "cell_type": "code",
   "execution_count": 67,
   "id": "83db758a",
   "metadata": {},
   "outputs": [],
   "source": [
    "import numpy as np # Lineer cebir\n",
    "import pandas as pd # Veri işleme\n",
    "import matplotlib.pyplot\n",
    "import seaborn as sns"
   ]
  },
  {
   "cell_type": "code",
   "execution_count": 68,
   "id": "47c47746",
   "metadata": {},
   "outputs": [],
   "source": [
    "dataSet = pd.read_csv(\"C:\\\\Users\\\\yunusEmre\\\\Desktop\\\\amazon\\\\ratings_Electronics.csv\", names = ['userId', 'productId', \"rating\", 'timestamp'])"
   ]
  },
  {
   "cell_type": "code",
   "execution_count": 69,
   "id": "13677552",
   "metadata": {},
   "outputs": [
    {
     "data": {
      "text/html": [
       "<div>\n",
       "<style scoped>\n",
       "    .dataframe tbody tr th:only-of-type {\n",
       "        vertical-align: middle;\n",
       "    }\n",
       "\n",
       "    .dataframe tbody tr th {\n",
       "        vertical-align: top;\n",
       "    }\n",
       "\n",
       "    .dataframe thead th {\n",
       "        text-align: right;\n",
       "    }\n",
       "</style>\n",
       "<table border=\"1\" class=\"dataframe\">\n",
       "  <thead>\n",
       "    <tr style=\"text-align: right;\">\n",
       "      <th></th>\n",
       "      <th>userId</th>\n",
       "      <th>productId</th>\n",
       "      <th>rating</th>\n",
       "      <th>timestamp</th>\n",
       "    </tr>\n",
       "  </thead>\n",
       "  <tbody>\n",
       "    <tr>\n",
       "      <th>0</th>\n",
       "      <td>AKM1MP6P0OYPR</td>\n",
       "      <td>0132793040</td>\n",
       "      <td>5.0</td>\n",
       "      <td>1365811200</td>\n",
       "    </tr>\n",
       "    <tr>\n",
       "      <th>1</th>\n",
       "      <td>A2CX7LUOHB2NDG</td>\n",
       "      <td>0321732944</td>\n",
       "      <td>5.0</td>\n",
       "      <td>1341100800</td>\n",
       "    </tr>\n",
       "    <tr>\n",
       "      <th>2</th>\n",
       "      <td>A2NWSAGRHCP8N5</td>\n",
       "      <td>0439886341</td>\n",
       "      <td>1.0</td>\n",
       "      <td>1367193600</td>\n",
       "    </tr>\n",
       "    <tr>\n",
       "      <th>3</th>\n",
       "      <td>A2WNBOD3WNDNKT</td>\n",
       "      <td>0439886341</td>\n",
       "      <td>3.0</td>\n",
       "      <td>1374451200</td>\n",
       "    </tr>\n",
       "    <tr>\n",
       "      <th>4</th>\n",
       "      <td>A1GI0U4ZRJA8WN</td>\n",
       "      <td>0439886341</td>\n",
       "      <td>1.0</td>\n",
       "      <td>1334707200</td>\n",
       "    </tr>\n",
       "  </tbody>\n",
       "</table>\n",
       "</div>"
      ],
      "text/plain": [
       "           userId   productId  rating   timestamp\n",
       "0   AKM1MP6P0OYPR  0132793040     5.0  1365811200\n",
       "1  A2CX7LUOHB2NDG  0321732944     5.0  1341100800\n",
       "2  A2NWSAGRHCP8N5  0439886341     1.0  1367193600\n",
       "3  A2WNBOD3WNDNKT  0439886341     3.0  1374451200\n",
       "4  A1GI0U4ZRJA8WN  0439886341     1.0  1334707200"
      ]
     },
     "execution_count": 69,
     "metadata": {},
     "output_type": "execute_result"
    }
   ],
   "source": [
    "dataSet.head() # ekrana gösterir."
   ]
  },
  {
   "cell_type": "code",
   "execution_count": 70,
   "id": "b12c9036",
   "metadata": {},
   "outputs": [
    {
     "data": {
      "text/plain": [
       "(7824482, 4)"
      ]
     },
     "execution_count": 70,
     "metadata": {},
     "output_type": "execute_result"
    }
   ],
   "source": [
    "dataSet.shape # dizinin boyutunu ve şeklini belirliyoruz"
   ]
  },
  {
   "cell_type": "code",
   "execution_count": 71,
   "id": "758eba97",
   "metadata": {},
   "outputs": [],
   "source": [
    "dataSet = dataSet.iloc[:1000000, 0:] # satır ve sütun indisleri kullanarak belirli bir veri aralığını seçiyoruz."
   ]
  },
  {
   "cell_type": "code",
   "execution_count": 72,
   "id": "7182ac81",
   "metadata": {},
   "outputs": [
    {
     "data": {
      "text/plain": [
       "userId        object\n",
       "productId     object\n",
       "rating       float64\n",
       "timestamp      int64\n",
       "dtype: object"
      ]
     },
     "execution_count": 72,
     "metadata": {},
     "output_type": "execute_result"
    }
   ],
   "source": [
    "dataSet.dtypes # DataFrame'deki veri tiplerini gösteriyoruz."
   ]
  },
  {
   "cell_type": "code",
   "execution_count": 73,
   "id": "ee9a0cb1",
   "metadata": {},
   "outputs": [
    {
     "name": "stdout",
     "output_type": "stream",
     "text": [
      "<class 'pandas.core.frame.DataFrame'>\n",
      "RangeIndex: 1000000 entries, 0 to 999999\n",
      "Data columns (total 4 columns):\n",
      " #   Column     Non-Null Count    Dtype  \n",
      "---  ------     --------------    -----  \n",
      " 0   userId     1000000 non-null  object \n",
      " 1   productId  1000000 non-null  object \n",
      " 2   rating     1000000 non-null  float64\n",
      " 3   timestamp  1000000 non-null  int64  \n",
      "dtypes: float64(1), int64(1), object(2)\n",
      "memory usage: 30.5+ MB\n"
     ]
    }
   ],
   "source": [
    "dataSet.info() # DataFrame'in verilerin özetini istiyoruz. Yani her sütunun ismi, veri tipi, non-null veri sayısı vb..."
   ]
  },
  {
   "cell_type": "code",
   "execution_count": 74,
   "id": "a620b1ec",
   "metadata": {},
   "outputs": [
    {
     "data": {
      "text/plain": [
       "count    1000000.000000\n",
       "mean           3.973620\n",
       "std            1.399741\n",
       "min            1.000000\n",
       "25%            3.000000\n",
       "50%            5.000000\n",
       "75%            5.000000\n",
       "max            5.000000\n",
       "Name: rating, dtype: float64"
      ]
     },
     "execution_count": 74,
     "metadata": {},
     "output_type": "execute_result"
    }
   ],
   "source": [
    "dataSet.describe()['rating'].T # temel istatistik değerlerini (sayısı, ortalaması ...) gösterir. Sonuçları yatay göstermek \n",
    "                               # için transpozunu aldık."
   ]
  },
  {
   "cell_type": "code",
   "execution_count": 75,
   "id": "cc37e730",
   "metadata": {},
   "outputs": [
    {
     "name": "stdout",
     "output_type": "stream",
     "text": [
      "Minimum rating is: 1\n",
      "Maximum rating is : 5\n"
     ]
    }
   ],
   "source": [
    "print(\"Minimum rating is: %d\" %(dataSet.rating.min()))\n",
    "print(\"Maximum rating is : %d\" %(dataSet.rating.max()))"
   ]
  },
  {
   "cell_type": "code",
   "execution_count": 76,
   "id": "dc3f2609",
   "metadata": {},
   "outputs": [
    {
     "name": "stdout",
     "output_type": "stream",
     "text": [
      "Number of missing values across columns:\n",
      " userId       0\n",
      "productId    0\n",
      "rating       0\n",
      "timestamp    0\n",
      "dtype: int64\n"
     ]
    }
   ],
   "source": [
    "# Her bir sütundaki eksik değerleri hesaplar. Eğer her hücrede eksik değer varsa kontrol edip True ya da False döndürür.\n",
    "# Sum fonksiyonu ise her bir sütundaki True değerlerinin sayısını hesaplayıp yazdırır.\n",
    "print(\"Number of missing values across columns:\\n\", dataSet.isnull().sum())"
   ]
  },
  {
   "cell_type": "code",
   "execution_count": 77,
   "id": "f62a63da",
   "metadata": {},
   "outputs": [
    {
     "data": {
      "text/plain": [
       "<seaborn.axisgrid.FacetGrid at 0x24b1550ed10>"
      ]
     },
     "execution_count": 77,
     "metadata": {},
     "output_type": "execute_result"
    },
    {
     "data": {
      "image/png": "[encoded data removed]",
      "text/plain": [
       "<Figure size 1000x500 with 1 Axes>"
      ]
     },
     "metadata": {},
     "output_type": "display_data"
    }
   ],
   "source": [
    "# aspect: çizimin genişlik/ yükseklik oranını ayarlar.\n",
    "# kind: çizim türünü belirtir. Bu örnekte 'count'\n",
    "with sns.axes_style('white'):\n",
    "    g = sns.catplot(x=\"rating\", data=dataSet, aspect=2.0, kind='count')\n",
    "    g.set_ylabels(\"Toplam reyting sayıları\") # y ekseni"
   ]
  },
  {
   "cell_type": "code",
   "execution_count": null,
   "id": "a47c8fa5",
   "metadata": {},
   "outputs": [],
   "source": []
  }
 ],
 "metadata": {
  "kernelspec": {
   "display_name": "Python 3 (ipykernel)",
   "language": "python",
   "name": "python3"
  },
  "language_info": {
   "codemirror_mode": {
    "name": "ipython",
    "version": 3
   },
   "file_extension": ".py",
   "mimetype": "text/x-python",
   "name": "python",
   "nbconvert_exporter": "python",
   "pygments_lexer": "ipython3",
   "version": "3.10.9"
  }
 },
 "nbformat": 4,
 "nbformat_minor": 5
}
